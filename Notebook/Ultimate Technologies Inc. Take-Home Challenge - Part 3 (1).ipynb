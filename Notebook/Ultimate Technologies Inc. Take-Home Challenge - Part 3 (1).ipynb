{
 "cells": [
  {
   "cell_type": "markdown",
   "id": "a6565846",
   "metadata": {},
   "source": [
    "# Load Data"
   ]
  },
  {
   "cell_type": "code",
   "execution_count": 2,
   "id": "41ab0b7b",
   "metadata": {},
   "outputs": [],
   "source": [
    "# Import required packages\n",
    "import pandas as pd\n",
    "import numpy as np\n",
    "import matplotlib.pyplot as plt\n",
    "import seaborn as sns\n",
    "from datetime import datetime, timedelta, time\n",
    "import matplotlib.dates as mdates\n",
    "from from_root import from_root\n",
    "import os"
   ]
  },
  {
   "cell_type": "code",
   "execution_count": 3,
   "id": "7d086a1f",
   "metadata": {},
   "outputs": [],
   "source": [
    "# Set display options to show all rows in DataFrame, enable inline plotting, and suppress warnings\n",
    "pd.set_option('display.max_rows', None)\n",
    "%matplotlib inline\n",
    "import warnings\n",
    "warnings.filterwarnings('ignore')"
   ]
  },
  {
   "cell_type": "code",
   "execution_count": 4,
   "id": "0be0c07b",
   "metadata": {},
   "outputs": [],
   "source": [
    "# Define the file path for the dataset\n",
    "ultimate_data_path = os.path.join(from_root(),\"data/ultimate_data_challenge.json\")\n",
    "\n",
    "# Load the dataset into a pandas DataFrame\n",
    "ultimate_df = pd.read_json(ultimate_data_path)"
   ]
  },
  {
   "cell_type": "code",
   "execution_count": 5,
   "id": "c54e3dc2",
   "metadata": {},
   "outputs": [
    {
     "data": {
      "text/html": [
       "<div>\n",
       "<style scoped>\n",
       "    .dataframe tbody tr th:only-of-type {\n",
       "        vertical-align: middle;\n",
       "    }\n",
       "\n",
       "    .dataframe tbody tr th {\n",
       "        vertical-align: top;\n",
       "    }\n",
       "\n",
       "    .dataframe thead th {\n",
       "        text-align: right;\n",
       "    }\n",
       "</style>\n",
       "<table border=\"1\" class=\"dataframe\">\n",
       "  <thead>\n",
       "    <tr style=\"text-align: right;\">\n",
       "      <th></th>\n",
       "      <th>city</th>\n",
       "      <th>trips_in_first_30_days</th>\n",
       "      <th>signup_date</th>\n",
       "      <th>avg_rating_of_driver</th>\n",
       "      <th>avg_surge</th>\n",
       "      <th>last_trip_date</th>\n",
       "      <th>phone</th>\n",
       "      <th>surge_pct</th>\n",
       "      <th>ultimate_black_user</th>\n",
       "      <th>weekday_pct</th>\n",
       "      <th>avg_dist</th>\n",
       "      <th>avg_rating_by_driver</th>\n",
       "    </tr>\n",
       "  </thead>\n",
       "  <tbody>\n",
       "    <tr>\n",
       "      <th>0</th>\n",
       "      <td>King's Landing</td>\n",
       "      <td>4</td>\n",
       "      <td>2014-01-25</td>\n",
       "      <td>4.7</td>\n",
       "      <td>1.10</td>\n",
       "      <td>2014-06-17</td>\n",
       "      <td>iPhone</td>\n",
       "      <td>15.4</td>\n",
       "      <td>True</td>\n",
       "      <td>46.2</td>\n",
       "      <td>3.67</td>\n",
       "      <td>5.0</td>\n",
       "    </tr>\n",
       "    <tr>\n",
       "      <th>1</th>\n",
       "      <td>Astapor</td>\n",
       "      <td>0</td>\n",
       "      <td>2014-01-29</td>\n",
       "      <td>5.0</td>\n",
       "      <td>1.00</td>\n",
       "      <td>2014-05-05</td>\n",
       "      <td>Android</td>\n",
       "      <td>0.0</td>\n",
       "      <td>False</td>\n",
       "      <td>50.0</td>\n",
       "      <td>8.26</td>\n",
       "      <td>5.0</td>\n",
       "    </tr>\n",
       "    <tr>\n",
       "      <th>2</th>\n",
       "      <td>Astapor</td>\n",
       "      <td>3</td>\n",
       "      <td>2014-01-06</td>\n",
       "      <td>4.3</td>\n",
       "      <td>1.00</td>\n",
       "      <td>2014-01-07</td>\n",
       "      <td>iPhone</td>\n",
       "      <td>0.0</td>\n",
       "      <td>False</td>\n",
       "      <td>100.0</td>\n",
       "      <td>0.77</td>\n",
       "      <td>5.0</td>\n",
       "    </tr>\n",
       "    <tr>\n",
       "      <th>3</th>\n",
       "      <td>King's Landing</td>\n",
       "      <td>9</td>\n",
       "      <td>2014-01-10</td>\n",
       "      <td>4.6</td>\n",
       "      <td>1.14</td>\n",
       "      <td>2014-06-29</td>\n",
       "      <td>iPhone</td>\n",
       "      <td>20.0</td>\n",
       "      <td>True</td>\n",
       "      <td>80.0</td>\n",
       "      <td>2.36</td>\n",
       "      <td>4.9</td>\n",
       "    </tr>\n",
       "    <tr>\n",
       "      <th>4</th>\n",
       "      <td>Winterfell</td>\n",
       "      <td>14</td>\n",
       "      <td>2014-01-27</td>\n",
       "      <td>4.4</td>\n",
       "      <td>1.19</td>\n",
       "      <td>2014-03-15</td>\n",
       "      <td>Android</td>\n",
       "      <td>11.8</td>\n",
       "      <td>False</td>\n",
       "      <td>82.4</td>\n",
       "      <td>3.13</td>\n",
       "      <td>4.9</td>\n",
       "    </tr>\n",
       "  </tbody>\n",
       "</table>\n",
       "</div>"
      ],
      "text/plain": [
       "             city  trips_in_first_30_days signup_date  avg_rating_of_driver  \\\n",
       "0  King's Landing                       4  2014-01-25                   4.7   \n",
       "1         Astapor                       0  2014-01-29                   5.0   \n",
       "2         Astapor                       3  2014-01-06                   4.3   \n",
       "3  King's Landing                       9  2014-01-10                   4.6   \n",
       "4      Winterfell                      14  2014-01-27                   4.4   \n",
       "\n",
       "   avg_surge last_trip_date    phone  surge_pct  ultimate_black_user  \\\n",
       "0       1.10     2014-06-17   iPhone       15.4                 True   \n",
       "1       1.00     2014-05-05  Android        0.0                False   \n",
       "2       1.00     2014-01-07   iPhone        0.0                False   \n",
       "3       1.14     2014-06-29   iPhone       20.0                 True   \n",
       "4       1.19     2014-03-15  Android       11.8                False   \n",
       "\n",
       "   weekday_pct  avg_dist  avg_rating_by_driver  \n",
       "0         46.2      3.67                   5.0  \n",
       "1         50.0      8.26                   5.0  \n",
       "2        100.0      0.77                   5.0  \n",
       "3         80.0      2.36                   4.9  \n",
       "4         82.4      3.13                   4.9  "
      ]
     },
     "execution_count": 5,
     "metadata": {},
     "output_type": "execute_result"
    }
   ],
   "source": [
    "ultimate_df.head()"
   ]
  },
  {
   "cell_type": "markdown",
   "id": "89715222",
   "metadata": {},
   "source": [
    "**Let use ydata-profiling to look at the general report of the dataset.**"
   ]
  },
  {
   "cell_type": "code",
   "execution_count": 5,
   "id": "388803e5",
   "metadata": {},
   "outputs": [],
   "source": [
    "from ydata_profiling import ProfileReport\n",
    "#profile_part3 = ProfileReport(ultimate_df)\n",
    "#profile_part3.to_file('part3_profile_report.html')"
   ]
  },
  {
   "cell_type": "code",
   "execution_count": 6,
   "id": "ef05fa9b",
   "metadata": {},
   "outputs": [],
   "source": [
    "#profile_part3.to_notebook_iframe()"
   ]
  },
  {
   "cell_type": "markdown",
   "id": "16004d49",
   "metadata": {},
   "source": [
    "## Create a \"retained\" column"
   ]
  },
  {
   "cell_type": "markdown",
   "id": "c209df96",
   "metadata": {},
   "source": [
    "**A retained customer is the one that is active in the last 30 days. Since we do not know when this dataset is obtained, we will use the latest day of the last_trip_date as a bench mark. So any customer that took a ride within 30 days of this bench mark date will be considered retained. Otherwise, the user will be considered as not retained**"
   ]
  },
  {
   "cell_type": "code",
   "execution_count": 7,
   "id": "93cf55f0",
   "metadata": {},
   "outputs": [
    {
     "data": {
      "text/plain": [
       "'2014-07-01'"
      ]
     },
     "execution_count": 7,
     "metadata": {},
     "output_type": "execute_result"
    }
   ],
   "source": [
    "# Determine the last timestamp in the dataset\n",
    "ultimate_df['last_trip_date'].max()"
   ]
  },
  {
   "cell_type": "markdown",
   "id": "e2c353d4",
   "metadata": {},
   "source": [
    "**We will set the  bench mark date as 2014-06-01 (30 days prior to 2014-07-01).**"
   ]
  },
  {
   "cell_type": "code",
   "execution_count": 8,
   "id": "b6797aa8",
   "metadata": {},
   "outputs": [],
   "source": [
    "# Create a new column 'retained' to indicate whether a user was active in the last 30 days\n",
    "# (i.e., if their 'last_trip_date' was before June 1, 2014)\n",
    "ultimate_df['retained'] = pd.to_datetime(ultimate_df['last_trip_date']) < pd.to_datetime('2014-06-01')"
   ]
  },
  {
   "cell_type": "code",
   "execution_count": 9,
   "id": "8c018d17",
   "metadata": {},
   "outputs": [
    {
     "data": {
      "text/html": [
       "<div>\n",
       "<style scoped>\n",
       "    .dataframe tbody tr th:only-of-type {\n",
       "        vertical-align: middle;\n",
       "    }\n",
       "\n",
       "    .dataframe tbody tr th {\n",
       "        vertical-align: top;\n",
       "    }\n",
       "\n",
       "    .dataframe thead th {\n",
       "        text-align: right;\n",
       "    }\n",
       "</style>\n",
       "<table border=\"1\" class=\"dataframe\">\n",
       "  <thead>\n",
       "    <tr style=\"text-align: right;\">\n",
       "      <th></th>\n",
       "      <th>city</th>\n",
       "      <th>trips_in_first_30_days</th>\n",
       "      <th>signup_date</th>\n",
       "      <th>avg_rating_of_driver</th>\n",
       "      <th>avg_surge</th>\n",
       "      <th>last_trip_date</th>\n",
       "      <th>phone</th>\n",
       "      <th>surge_pct</th>\n",
       "      <th>ultimate_black_user</th>\n",
       "      <th>weekday_pct</th>\n",
       "      <th>avg_dist</th>\n",
       "      <th>avg_rating_by_driver</th>\n",
       "      <th>retained</th>\n",
       "    </tr>\n",
       "  </thead>\n",
       "  <tbody>\n",
       "    <tr>\n",
       "      <th>0</th>\n",
       "      <td>King's Landing</td>\n",
       "      <td>4</td>\n",
       "      <td>2014-01-25</td>\n",
       "      <td>4.7</td>\n",
       "      <td>1.10</td>\n",
       "      <td>2014-06-17</td>\n",
       "      <td>iPhone</td>\n",
       "      <td>15.4</td>\n",
       "      <td>True</td>\n",
       "      <td>46.2</td>\n",
       "      <td>3.67</td>\n",
       "      <td>5.0</td>\n",
       "      <td>False</td>\n",
       "    </tr>\n",
       "    <tr>\n",
       "      <th>1</th>\n",
       "      <td>Astapor</td>\n",
       "      <td>0</td>\n",
       "      <td>2014-01-29</td>\n",
       "      <td>5.0</td>\n",
       "      <td>1.00</td>\n",
       "      <td>2014-05-05</td>\n",
       "      <td>Android</td>\n",
       "      <td>0.0</td>\n",
       "      <td>False</td>\n",
       "      <td>50.0</td>\n",
       "      <td>8.26</td>\n",
       "      <td>5.0</td>\n",
       "      <td>True</td>\n",
       "    </tr>\n",
       "    <tr>\n",
       "      <th>2</th>\n",
       "      <td>Astapor</td>\n",
       "      <td>3</td>\n",
       "      <td>2014-01-06</td>\n",
       "      <td>4.3</td>\n",
       "      <td>1.00</td>\n",
       "      <td>2014-01-07</td>\n",
       "      <td>iPhone</td>\n",
       "      <td>0.0</td>\n",
       "      <td>False</td>\n",
       "      <td>100.0</td>\n",
       "      <td>0.77</td>\n",
       "      <td>5.0</td>\n",
       "      <td>True</td>\n",
       "    </tr>\n",
       "    <tr>\n",
       "      <th>3</th>\n",
       "      <td>King's Landing</td>\n",
       "      <td>9</td>\n",
       "      <td>2014-01-10</td>\n",
       "      <td>4.6</td>\n",
       "      <td>1.14</td>\n",
       "      <td>2014-06-29</td>\n",
       "      <td>iPhone</td>\n",
       "      <td>20.0</td>\n",
       "      <td>True</td>\n",
       "      <td>80.0</td>\n",
       "      <td>2.36</td>\n",
       "      <td>4.9</td>\n",
       "      <td>False</td>\n",
       "    </tr>\n",
       "    <tr>\n",
       "      <th>4</th>\n",
       "      <td>Winterfell</td>\n",
       "      <td>14</td>\n",
       "      <td>2014-01-27</td>\n",
       "      <td>4.4</td>\n",
       "      <td>1.19</td>\n",
       "      <td>2014-03-15</td>\n",
       "      <td>Android</td>\n",
       "      <td>11.8</td>\n",
       "      <td>False</td>\n",
       "      <td>82.4</td>\n",
       "      <td>3.13</td>\n",
       "      <td>4.9</td>\n",
       "      <td>True</td>\n",
       "    </tr>\n",
       "  </tbody>\n",
       "</table>\n",
       "</div>"
      ],
      "text/plain": [
       "             city  trips_in_first_30_days signup_date  avg_rating_of_driver  \\\n",
       "0  King's Landing                       4  2014-01-25                   4.7   \n",
       "1         Astapor                       0  2014-01-29                   5.0   \n",
       "2         Astapor                       3  2014-01-06                   4.3   \n",
       "3  King's Landing                       9  2014-01-10                   4.6   \n",
       "4      Winterfell                      14  2014-01-27                   4.4   \n",
       "\n",
       "   avg_surge last_trip_date    phone  surge_pct  ultimate_black_user  \\\n",
       "0       1.10     2014-06-17   iPhone       15.4                 True   \n",
       "1       1.00     2014-05-05  Android        0.0                False   \n",
       "2       1.00     2014-01-07   iPhone        0.0                False   \n",
       "3       1.14     2014-06-29   iPhone       20.0                 True   \n",
       "4       1.19     2014-03-15  Android       11.8                False   \n",
       "\n",
       "   weekday_pct  avg_dist  avg_rating_by_driver  retained  \n",
       "0         46.2      3.67                   5.0     False  \n",
       "1         50.0      8.26                   5.0      True  \n",
       "2        100.0      0.77                   5.0      True  \n",
       "3         80.0      2.36                   4.9     False  \n",
       "4         82.4      3.13                   4.9      True  "
      ]
     },
     "execution_count": 9,
     "metadata": {},
     "output_type": "execute_result"
    }
   ],
   "source": [
    "# Let look at the new dataframe\n",
    "ultimate_df.head()"
   ]
  },
  {
   "cell_type": "markdown",
   "id": "df0b8b67",
   "metadata": {},
   "source": [
    "# EDA"
   ]
  },
  {
   "cell_type": "markdown",
   "id": "692bd425",
   "metadata": {},
   "source": [
    "## Addressing missing values"
   ]
  },
  {
   "cell_type": "code",
   "execution_count": 10,
   "id": "1bf23b8d",
   "metadata": {},
   "outputs": [
    {
     "data": {
      "text/plain": [
       "city                         0\n",
       "trips_in_first_30_days       0\n",
       "signup_date                  0\n",
       "avg_rating_of_driver      8122\n",
       "avg_surge                    0\n",
       "last_trip_date               0\n",
       "phone                      396\n",
       "surge_pct                    0\n",
       "ultimate_black_user          0\n",
       "weekday_pct                  0\n",
       "avg_dist                     0\n",
       "avg_rating_by_driver       201\n",
       "retained                     0\n",
       "dtype: int64"
      ]
     },
     "execution_count": 10,
     "metadata": {},
     "output_type": "execute_result"
    }
   ],
   "source": [
    "ultimate_df.isnull().sum()"
   ]
  },
  {
   "cell_type": "markdown",
   "id": "6efb3635",
   "metadata": {},
   "source": [
    "**We will drop all the rows that contain at least one missing value.**"
   ]
  },
  {
   "cell_type": "code",
   "execution_count": 11,
   "id": "47f1f643",
   "metadata": {},
   "outputs": [],
   "source": [
    "# Remove rows with missing values in 'avg_rating_of_driver', 'phone', or 'avg_rating_by_driver' columns\n",
    "ultimate_df_cleaned = ultimate_df.dropna(subset = ['avg_rating_of_driver', 'phone', 'avg_rating_by_driver'])"
   ]
  },
  {
   "cell_type": "code",
   "execution_count": 12,
   "id": "d5d8d067",
   "metadata": {},
   "outputs": [
    {
     "name": "stdout",
     "output_type": "stream",
     "text": [
      "<class 'pandas.core.frame.DataFrame'>\n",
      "Index: 41445 entries, 0 to 49998\n",
      "Data columns (total 13 columns):\n",
      " #   Column                  Non-Null Count  Dtype  \n",
      "---  ------                  --------------  -----  \n",
      " 0   city                    41445 non-null  object \n",
      " 1   trips_in_first_30_days  41445 non-null  int64  \n",
      " 2   signup_date             41445 non-null  object \n",
      " 3   avg_rating_of_driver    41445 non-null  float64\n",
      " 4   avg_surge               41445 non-null  float64\n",
      " 5   last_trip_date          41445 non-null  object \n",
      " 6   phone                   41445 non-null  object \n",
      " 7   surge_pct               41445 non-null  float64\n",
      " 8   ultimate_black_user     41445 non-null  bool   \n",
      " 9   weekday_pct             41445 non-null  float64\n",
      " 10  avg_dist                41445 non-null  float64\n",
      " 11  avg_rating_by_driver    41445 non-null  float64\n",
      " 12  retained                41445 non-null  bool   \n",
      "dtypes: bool(2), float64(6), int64(1), object(4)\n",
      "memory usage: 3.9+ MB\n"
     ]
    }
   ],
   "source": [
    "# Double-check if there is any missing values\n",
    "ultimate_df_cleaned.info()"
   ]
  },
  {
   "cell_type": "markdown",
   "id": "addb6e3f",
   "metadata": {},
   "source": [
    "## Numerical Features"
   ]
  },
  {
   "cell_type": "markdown",
   "id": "bcebcd98",
   "metadata": {},
   "source": [
    "**Let look at the descriptive statistics of the numerical features.**"
   ]
  },
  {
   "cell_type": "code",
   "execution_count": 13,
   "id": "92863b86",
   "metadata": {},
   "outputs": [
    {
     "name": "stdout",
     "output_type": "stream",
     "text": [
      "       trips_in_first_30_days  avg_rating_of_driver     avg_surge  \\\n",
      "count            41445.000000          41445.000000  41445.000000   \n",
      "mean                 2.609675              4.601720      1.073822   \n",
      "std                  4.059336              0.616104      0.198747   \n",
      "min                  0.000000              1.000000      1.000000   \n",
      "25%                  0.000000              4.300000      1.000000   \n",
      "50%                  1.000000              4.900000      1.000000   \n",
      "75%                  3.000000              5.000000      1.070000   \n",
      "max                125.000000              5.000000      8.000000   \n",
      "\n",
      "          surge_pct   weekday_pct      avg_dist  avg_rating_by_driver  \n",
      "count  41445.000000  41445.000000  41445.000000          41445.000000  \n",
      "mean       8.898709     61.254897      5.460046              4.776446  \n",
      "std       18.322061     34.813848      5.145174              0.404606  \n",
      "min        0.000000      0.000000      0.000000              1.000000  \n",
      "25%        0.000000     37.500000      2.420000              4.700000  \n",
      "50%        0.000000     66.700000      3.780000              5.000000  \n",
      "75%       11.100000    100.000000      6.490000              5.000000  \n",
      "max      100.000000    100.000000     79.690000              5.000000  \n"
     ]
    }
   ],
   "source": [
    "print(ultimate_df_cleaned.describe())"
   ]
  },
  {
   "cell_type": "markdown",
   "id": "2cc05911",
   "metadata": {},
   "source": [
    "**Let look at the distribution of the numerical features of retained or not retained customers.**"
   ]
  },
  {
   "cell_type": "code",
   "execution_count": 14,
   "id": "45d59bcb",
   "metadata": {},
   "outputs": [
    {
     "data": {
      "image/png": "[encoded data removed]",
      "text/plain": [
       "<Figure size 640x480 with 1 Axes>"
      ]
     },
     "metadata": {},
     "output_type": "display_data"
    },
    {
     "data": {
      "image/png": "[encoded data removed]",
      "text/plain": [
       "<Figure size 640x480 with 1 Axes>"
      ]
     },
     "metadata": {},
     "output_type": "display_data"
    },
    {
     "data": {
      "image/png": "[encoded data removed]",
      "text/plain": [
       "<Figure size 640x480 with 1 Axes>"
      ]
     },
     "metadata": {},
     "output_type": "display_data"
    },
    {
     "data": {
      "image/png": "[encoded data removed]",
      "text/plain": [
       "<Figure size 640x480 with 1 Axes>"
      ]
     },
     "metadata": {},
     "output_type": "display_data"
    },
    {
     "data": {
      "image/png": "[encoded data removed]",
      "text/plain": [
       "<Figure size 640x480 with 1 Axes>"
      ]
     },
     "metadata": {},
     "output_type": "display_data"
    },
    {
     "data": {
      "image/png": "[encoded data removed]",
      "text/plain": [
       "<Figure size 640x480 with 1 Axes>"
      ]
     },
     "metadata": {},
     "output_type": "display_data"
    },
    {
     "data": {
      "image/png": "[encoded data removed]",
      "text/plain": [
       "<Figure size 640x480 with 1 Axes>"
      ]
     },
     "metadata": {},
     "output_type": "display_data"
    }
   ],
   "source": [
    "# Distribution plots for numerical columns\n",
    "numerical_columns = ['trips_in_first_30_days', 'avg_rating_of_driver', 'avg_surge', 'surge_pct', 'weekday_pct', 'avg_dist', 'avg_rating_by_driver']\n",
    "for column in numerical_columns:\n",
    "    graph = sns.boxplot(data=ultimate_df_cleaned, x=column, hue='retained')\n",
    "\n",
    "    #For each plot, we draw vertical lines of 25th, 50th, and 75th percentiles of the feature.\n",
    "    col_25, col_50, col_75 = ultimate_df_cleaned[column].quantile([0.25, 0.5, 0.75])\n",
    "    graph.axvline(col_25, color='r', linestyle=\"--\")\n",
    "    graph.axvline(col_50, color='r')\n",
    "    graph.axvline(col_75, color='r', linestyle=\"--\")\n",
    "    plt.title(f'Boxplot of {column}')\n",
    "    plt.show()"
   ]
  },
  {
   "cell_type": "markdown",
   "id": "0a0f18aa",
   "metadata": {},
   "source": [
    "**Some interest insights from the numerical features:**\n",
    "> **Retained customers tend to have higher average rating by drivers.**\n",
    ">\n",
    "> **Retained customers tend to have very low surge percentage.**"
   ]
  },
  {
   "cell_type": "markdown",
   "id": "e802b930",
   "metadata": {},
   "source": [
    "**We can print the descriptive statistics of the numerical features.**"
   ]
  },
  {
   "cell_type": "markdown",
   "id": "5b7953c4",
   "metadata": {},
   "source": [
    "* **retained customers**"
   ]
  },
  {
   "cell_type": "code",
   "execution_count": 15,
   "id": "953772ab",
   "metadata": {
    "scrolled": true
   },
   "outputs": [
    {
     "name": "stdout",
     "output_type": "stream",
     "text": [
      "trips_in_first_30_days\n",
      "count    24410.000000\n",
      "mean         1.935477\n",
      "std          2.914006\n",
      "min          0.000000\n",
      "25%          0.000000\n",
      "50%          1.000000\n",
      "75%          2.000000\n",
      "max         73.000000\n",
      "Name: trips_in_first_30_days, dtype: float64\n",
      "**********\n",
      "avg_rating_of_driver\n",
      "count    24410.000000\n",
      "mean         4.607808\n",
      "std          0.662614\n",
      "min          1.000000\n",
      "25%          4.300000\n",
      "50%          5.000000\n",
      "75%          5.000000\n",
      "max          5.000000\n",
      "Name: avg_rating_of_driver, dtype: float64\n",
      "**********\n",
      "avg_surge\n",
      "count    24410.000000\n",
      "mean         1.074517\n",
      "std          0.229827\n",
      "min          1.000000\n",
      "25%          1.000000\n",
      "50%          1.000000\n",
      "75%          1.000000\n",
      "max          8.000000\n",
      "Name: avg_surge, dtype: float64\n",
      "**********\n",
      "surge_pct\n",
      "count    24410.000000\n",
      "mean         8.728419\n",
      "std         20.738757\n",
      "min          0.000000\n",
      "25%          0.000000\n",
      "50%          0.000000\n",
      "75%          0.000000\n",
      "max        100.000000\n",
      "Name: surge_pct, dtype: float64\n",
      "**********\n",
      "weekday_pct\n",
      "count    24410.000000\n",
      "mean        60.951770\n",
      "std         39.057475\n",
      "min          0.000000\n",
      "25%         31.600000\n",
      "50%         66.700000\n",
      "75%        100.000000\n",
      "max        100.000000\n",
      "Name: weekday_pct, dtype: float64\n",
      "**********\n",
      "avg_dist\n",
      "count    24410.000000\n",
      "mean         5.844723\n",
      "std          5.725847\n",
      "min          0.000000\n",
      "25%          2.300000\n",
      "50%          3.890000\n",
      "75%          7.270000\n",
      "max         79.690000\n",
      "Name: avg_dist, dtype: float64\n",
      "**********\n",
      "avg_rating_by_driver\n",
      "count    24410.000000\n",
      "mean         4.788181\n",
      "std          0.465537\n",
      "min          1.000000\n",
      "25%          4.800000\n",
      "50%          5.000000\n",
      "75%          5.000000\n",
      "max          5.000000\n",
      "Name: avg_rating_by_driver, dtype: float64\n",
      "**********\n"
     ]
    }
   ],
   "source": [
    "for column in numerical_columns:\n",
    "    print('{}'.format(column))\n",
    "    print(ultimate_df_cleaned[ultimate_df_cleaned['retained']==True][column].describe())\n",
    "    print(\"**********\")"
   ]
  },
  {
   "cell_type": "markdown",
   "id": "e7eb54b5",
   "metadata": {},
   "source": [
    "* **not retained customers.**"
   ]
  },
  {
   "cell_type": "code",
   "execution_count": 16,
   "id": "6dc33eb7",
   "metadata": {},
   "outputs": [
    {
     "name": "stdout",
     "output_type": "stream",
     "text": [
      "trips_in_first_30_days\n",
      "count    17035.000000\n",
      "mean         3.575756\n",
      "std          5.132168\n",
      "min          0.000000\n",
      "25%          0.000000\n",
      "50%          2.000000\n",
      "75%          5.000000\n",
      "max        125.000000\n",
      "Name: trips_in_first_30_days, dtype: float64\n",
      "**********\n",
      "avg_rating_of_driver\n",
      "count    17035.000000\n",
      "mean         4.592997\n",
      "std          0.542454\n",
      "min          1.000000\n",
      "25%          4.300000\n",
      "50%          4.800000\n",
      "75%          5.000000\n",
      "max          5.000000\n",
      "Name: avg_rating_of_driver, dtype: float64\n",
      "**********\n",
      "avg_surge\n",
      "count    17035.000000\n",
      "mean         1.072826\n",
      "std          0.142878\n",
      "min          1.000000\n",
      "25%          1.000000\n",
      "50%          1.010000\n",
      "75%          1.100000\n",
      "max          4.500000\n",
      "Name: avg_surge, dtype: float64\n",
      "**********\n",
      "surge_pct\n",
      "count    17035.000000\n",
      "mean         9.142724\n",
      "std         14.154435\n",
      "min          0.000000\n",
      "25%          0.000000\n",
      "50%          2.500000\n",
      "75%         14.300000\n",
      "max        100.000000\n",
      "Name: surge_pct, dtype: float64\n",
      "**********\n",
      "weekday_pct\n",
      "count    17035.000000\n",
      "mean        61.689257\n",
      "std         27.614271\n",
      "min          0.000000\n",
      "25%         45.500000\n",
      "50%         63.900000\n",
      "75%         82.400000\n",
      "max        100.000000\n",
      "Name: weekday_pct, dtype: float64\n",
      "**********\n",
      "avg_dist\n",
      "count    17035.000000\n",
      "mean         4.908831\n",
      "std          4.112530\n",
      "min          0.000000\n",
      "25%          2.570000\n",
      "50%          3.690000\n",
      "75%          5.660000\n",
      "max         79.340000\n",
      "Name: avg_dist, dtype: float64\n",
      "**********\n",
      "avg_rating_by_driver\n",
      "count    17035.000000\n",
      "mean         4.759630\n",
      "std          0.295402\n",
      "min          1.000000\n",
      "25%          4.600000\n",
      "50%          4.800000\n",
      "75%          5.000000\n",
      "max          5.000000\n",
      "Name: avg_rating_by_driver, dtype: float64\n",
      "**********\n"
     ]
    }
   ],
   "source": [
    "for column in numerical_columns:\n",
    "    print('{}'.format(column))\n",
    "    print(ultimate_df_cleaned[ultimate_df_cleaned['retained']==False][column].describe())\n",
    "    print(\"**********\")"
   ]
  },
  {
   "cell_type": "markdown",
   "id": "c4271223",
   "metadata": {},
   "source": [
    "## Categorical Features"
   ]
  },
  {
   "cell_type": "code",
   "execution_count": 17,
   "id": "b89bad04",
   "metadata": {},
   "outputs": [
    {
     "name": "stdout",
     "output_type": "stream",
     "text": [
      "city\n",
      "Winterfell        19161\n",
      "Astapor           13509\n",
      "King's Landing     8775\n",
      "Name: count, dtype: int64\n",
      "**********\n",
      "phone\n",
      "iPhone     29352\n",
      "Android    12093\n",
      "Name: count, dtype: int64\n",
      "**********\n",
      "ultimate_black_user\n",
      "False    25526\n",
      "True     15919\n",
      "Name: count, dtype: int64\n",
      "**********\n",
      "retained\n",
      "True     24410\n",
      "False    17035\n",
      "Name: count, dtype: int64\n",
      "**********\n"
     ]
    }
   ],
   "source": [
    "# Display the value counts for each categorical column to understand the distribution of categories\n",
    "categorical_columns = ['city', 'phone', 'ultimate_black_user', 'retained']\n",
    "for column in categorical_columns:\n",
    "    print(ultimate_df_cleaned[column].value_counts())\n",
    "    print(\"**********\")"
   ]
  },
  {
   "cell_type": "code",
   "execution_count": 18,
   "id": "e9317b3f",
   "metadata": {},
   "outputs": [
    {
     "data": {
      "image/png": "[encoded data removed]",
      "text/plain": [
       "<Figure size 640x480 with 1 Axes>"
      ]
     },
     "metadata": {},
     "output_type": "display_data"
    },
    {
     "data": {
      "image/png": "[encoded data removed]",
      "text/plain": [
       "<Figure size 640x480 with 1 Axes>"
      ]
     },
     "metadata": {},
     "output_type": "display_data"
    },
    {
     "data": {
      "image/png": "[encoded data removed]",
      "text/plain": [
       "<Figure size 640x480 with 1 Axes>"
      ]
     },
     "metadata": {},
     "output_type": "display_data"
    },
    {
     "data": {
      "image/png": "[encoded data removed]",
      "text/plain": [
       "<Figure size 640x480 with 1 Axes>"
      ]
     },
     "metadata": {},
     "output_type": "display_data"
    }
   ],
   "source": [
    "# Create count plots for each categorical column, showing the distribution of categories with respect to user retention\n",
    "for column in categorical_columns:\n",
    "    sns.countplot(x=column, data=ultimate_df_cleaned, hue='retained')\n",
    "    plt.title(f'Distribution of {column}')  # Set the title for each plot to indicate the column being analyzed\n",
    "    plt.show()  # Display the plot"
   ]
  },
  {
   "cell_type": "markdown",
   "id": "c8da3101",
   "metadata": {},
   "source": [
    "**Some interesting insights from the categorical features:**\n",
    "> **Customer from King's Landing has lower retained rate from other 2 city.**\n",
    ">\n",
    "> **Users of iPhone have lower rate of retain than those of Android.**\n",
    ">\n",
    "> **Ultimate Black users have lower rate of retain.**"
   ]
  },
  {
   "cell_type": "markdown",
   "id": "8aa87817",
   "metadata": {},
   "source": [
    "## Datetime Features"
   ]
  },
  {
   "cell_type": "code",
   "execution_count": 19,
   "id": "8066b196",
   "metadata": {},
   "outputs": [],
   "source": [
    "# Convert 'signup_date' and 'last_trip_date' columns to datetime format for accurate date manipulation and analysis\n",
    "ultimate_df_cleaned['signup_date'] = pd.to_datetime(ultimate_df_cleaned['signup_date'])\n",
    "ultimate_df_cleaned['last_trip_date'] = pd.to_datetime(ultimate_df_cleaned['last_trip_date'])"
   ]
  },
  {
   "cell_type": "markdown",
   "id": "734d3b7f",
   "metadata": {},
   "source": [
    "# Modeling"
   ]
  },
  {
   "cell_type": "markdown",
   "id": "dff5ea7b",
   "metadata": {},
   "source": [
    "## Data Preprocessing"
   ]
  },
  {
   "cell_type": "code",
   "execution_count": 21,
   "id": "40470405",
   "metadata": {},
   "outputs": [],
   "source": [
    "from sklearn.model_selection import train_test_split, cross_val_score\n",
    "from sklearn.preprocessing import OneHotEncoder, StandardScaler, Normalizer\n",
    "from sklearn.compose import make_column_transformer"
   ]
  },
  {
   "cell_type": "markdown",
   "id": "f96506e6",
   "metadata": {},
   "source": [
    "**Since the timespan of the dataset is about 6-month, we will not account for time series analysis. We will drop the two datetime columns.**\n",
    "**However, before dropping the datetime columns, we will create new features which calculate the timespan from the date an account is open to the last trip day, and the lifespan of an account up to 2014-07-01**"
   ]
  },
  {
   "cell_type": "code",
   "execution_count": 22,
   "id": "5c2f28b6",
   "metadata": {},
   "outputs": [],
   "source": [
    "# Calculate the duration between 'signup_date' and 'last_trip_date' and store it in a new column 'first_to_last'\n",
    "ultimate_df_cleaned['first_to_last'] = ultimate_df_cleaned['last_trip_date'] -  ultimate_df_cleaned['signup_date']"
   ]
  },
  {
   "cell_type": "code",
   "execution_count": 23,
   "id": "349aa949",
   "metadata": {},
   "outputs": [],
   "source": [
    "# Convert the 'first_to_last' duration to the number of days for easier interpretation\n",
    "ultimate_df_cleaned['first_to_last'] = ultimate_df_cleaned['first_to_last'].dt.days"
   ]
  },
  {
   "cell_type": "code",
   "execution_count": 24,
   "id": "d79da84f",
   "metadata": {},
   "outputs": [],
   "source": [
    "# Calculate the age of each account as the difference between a reference date (July 1, 2014) and the 'signup_date'\n",
    "# Store the result in a new column 'account_age' as the number of days\n",
    "ultimate_df_cleaned['account_age'] = pd.to_datetime('2014-07-01') -  ultimate_df_cleaned['signup_date']\n",
    "ultimate_df_cleaned['account_age'] = ultimate_df_cleaned['account_age'].dt.days"
   ]
  },
  {
   "cell_type": "code",
   "execution_count": 25,
   "id": "94ded204",
   "metadata": {},
   "outputs": [
    {
     "data": {
      "text/html": [
       "<div>\n",
       "<style scoped>\n",
       "    .dataframe tbody tr th:only-of-type {\n",
       "        vertical-align: middle;\n",
       "    }\n",
       "\n",
       "    .dataframe tbody tr th {\n",
       "        vertical-align: top;\n",
       "    }\n",
       "\n",
       "    .dataframe thead th {\n",
       "        text-align: right;\n",
       "    }\n",
       "</style>\n",
       "<table border=\"1\" class=\"dataframe\">\n",
       "  <thead>\n",
       "    <tr style=\"text-align: right;\">\n",
       "      <th></th>\n",
       "      <th>city</th>\n",
       "      <th>trips_in_first_30_days</th>\n",
       "      <th>signup_date</th>\n",
       "      <th>avg_rating_of_driver</th>\n",
       "      <th>avg_surge</th>\n",
       "      <th>last_trip_date</th>\n",
       "      <th>phone</th>\n",
       "      <th>surge_pct</th>\n",
       "      <th>ultimate_black_user</th>\n",
       "      <th>weekday_pct</th>\n",
       "      <th>avg_dist</th>\n",
       "      <th>avg_rating_by_driver</th>\n",
       "      <th>retained</th>\n",
       "      <th>first_to_last</th>\n",
       "      <th>account_age</th>\n",
       "    </tr>\n",
       "  </thead>\n",
       "  <tbody>\n",
       "    <tr>\n",
       "      <th>49973</th>\n",
       "      <td>Astapor</td>\n",
       "      <td>2</td>\n",
       "      <td>2014-01-01</td>\n",
       "      <td>4.0</td>\n",
       "      <td>1.00</td>\n",
       "      <td>2014-06-28</td>\n",
       "      <td>iPhone</td>\n",
       "      <td>0.0</td>\n",
       "      <td>True</td>\n",
       "      <td>25.0</td>\n",
       "      <td>4.07</td>\n",
       "      <td>5.0</td>\n",
       "      <td>False</td>\n",
       "      <td>178</td>\n",
       "      <td>181</td>\n",
       "    </tr>\n",
       "    <tr>\n",
       "      <th>3977</th>\n",
       "      <td>Astapor</td>\n",
       "      <td>3</td>\n",
       "      <td>2014-01-01</td>\n",
       "      <td>5.0</td>\n",
       "      <td>1.07</td>\n",
       "      <td>2014-04-07</td>\n",
       "      <td>Android</td>\n",
       "      <td>18.2</td>\n",
       "      <td>False</td>\n",
       "      <td>36.4</td>\n",
       "      <td>2.60</td>\n",
       "      <td>5.0</td>\n",
       "      <td>True</td>\n",
       "      <td>96</td>\n",
       "      <td>181</td>\n",
       "    </tr>\n",
       "    <tr>\n",
       "      <th>45398</th>\n",
       "      <td>Winterfell</td>\n",
       "      <td>0</td>\n",
       "      <td>2014-01-01</td>\n",
       "      <td>4.6</td>\n",
       "      <td>1.02</td>\n",
       "      <td>2014-06-30</td>\n",
       "      <td>iPhone</td>\n",
       "      <td>6.3</td>\n",
       "      <td>False</td>\n",
       "      <td>56.3</td>\n",
       "      <td>3.17</td>\n",
       "      <td>4.6</td>\n",
       "      <td>False</td>\n",
       "      <td>180</td>\n",
       "      <td>181</td>\n",
       "    </tr>\n",
       "    <tr>\n",
       "      <th>45362</th>\n",
       "      <td>Astapor</td>\n",
       "      <td>0</td>\n",
       "      <td>2014-01-01</td>\n",
       "      <td>4.7</td>\n",
       "      <td>1.00</td>\n",
       "      <td>2014-06-24</td>\n",
       "      <td>iPhone</td>\n",
       "      <td>0.0</td>\n",
       "      <td>False</td>\n",
       "      <td>68.8</td>\n",
       "      <td>3.68</td>\n",
       "      <td>4.9</td>\n",
       "      <td>False</td>\n",
       "      <td>174</td>\n",
       "      <td>181</td>\n",
       "    </tr>\n",
       "    <tr>\n",
       "      <th>45344</th>\n",
       "      <td>Winterfell</td>\n",
       "      <td>1</td>\n",
       "      <td>2014-01-01</td>\n",
       "      <td>4.0</td>\n",
       "      <td>1.00</td>\n",
       "      <td>2014-01-06</td>\n",
       "      <td>Android</td>\n",
       "      <td>0.0</td>\n",
       "      <td>False</td>\n",
       "      <td>100.0</td>\n",
       "      <td>3.64</td>\n",
       "      <td>3.0</td>\n",
       "      <td>True</td>\n",
       "      <td>5</td>\n",
       "      <td>181</td>\n",
       "    </tr>\n",
       "  </tbody>\n",
       "</table>\n",
       "</div>"
      ],
      "text/plain": [
       "             city  trips_in_first_30_days signup_date  avg_rating_of_driver  \\\n",
       "49973     Astapor                       2  2014-01-01                   4.0   \n",
       "3977      Astapor                       3  2014-01-01                   5.0   \n",
       "45398  Winterfell                       0  2014-01-01                   4.6   \n",
       "45362     Astapor                       0  2014-01-01                   4.7   \n",
       "45344  Winterfell                       1  2014-01-01                   4.0   \n",
       "\n",
       "       avg_surge last_trip_date    phone  surge_pct  ultimate_black_user  \\\n",
       "49973       1.00     2014-06-28   iPhone        0.0                 True   \n",
       "3977        1.07     2014-04-07  Android       18.2                False   \n",
       "45398       1.02     2014-06-30   iPhone        6.3                False   \n",
       "45362       1.00     2014-06-24   iPhone        0.0                False   \n",
       "45344       1.00     2014-01-06  Android        0.0                False   \n",
       "\n",
       "       weekday_pct  avg_dist  avg_rating_by_driver  retained  first_to_last  \\\n",
       "49973         25.0      4.07                   5.0     False            178   \n",
       "3977          36.4      2.60                   5.0      True             96   \n",
       "45398         56.3      3.17                   4.6     False            180   \n",
       "45362         68.8      3.68                   4.9     False            174   \n",
       "45344        100.0      3.64                   3.0      True              5   \n",
       "\n",
       "       account_age  \n",
       "49973          181  \n",
       "3977           181  \n",
       "45398          181  \n",
       "45362          181  \n",
       "45344          181  "
      ]
     },
     "execution_count": 25,
     "metadata": {},
     "output_type": "execute_result"
    }
   ],
   "source": [
    "# Sort the DataFrame by 'account_age' in descending order and display the top rows to examine the oldest accounts\n",
    "\n",
    "ultimate_df_cleaned.sort_values('account_age', ascending=False).head()"
   ]
  },
  {
   "cell_type": "markdown",
   "id": "0d11593d",
   "metadata": {},
   "source": [
    "**The goal of the predictive model is to predict if a customer is still retained after 6 month since the openning of the account. Therefore, we will only use the accounts that are more than 6 months old for the machine learning purpose.**"
   ]
  },
  {
   "cell_type": "code",
   "execution_count": 28,
   "id": "c03df64a",
   "metadata": {},
   "outputs": [],
   "source": [
    "# Filter the DataFrame to create a new DataFrame 'learning_data' containing only accounts that are at least 180 days old\n",
    "learning_data = ultimate_df_cleaned[ultimate_df_cleaned['account_age']>=180]"
   ]
  },
  {
   "cell_type": "code",
   "execution_count": 29,
   "id": "b63d9b26",
   "metadata": {},
   "outputs": [
    {
     "data": {
      "text/plain": [
       "(2216, 15)"
      ]
     },
     "execution_count": 29,
     "metadata": {},
     "output_type": "execute_result"
    }
   ],
   "source": [
    "learning_data.shape"
   ]
  },
  {
   "cell_type": "code",
   "execution_count": 30,
   "id": "ea156f77",
   "metadata": {},
   "outputs": [],
   "source": [
    "# Drop the 'signup_date', 'last_trip_date', and 'account_age' columns from the 'learning_data' DataFrame\n",
    "# as they are no longer needed for analysis or modeling\n",
    "learning_data = learning_data.drop(['signup_date','last_trip_date', 'account_age'], axis=1)"
   ]
  },
  {
   "cell_type": "code",
   "execution_count": 32,
   "id": "88f0ee9a",
   "metadata": {},
   "outputs": [
    {
     "data": {
      "text/html": [
       "<div>\n",
       "<style scoped>\n",
       "    .dataframe tbody tr th:only-of-type {\n",
       "        vertical-align: middle;\n",
       "    }\n",
       "\n",
       "    .dataframe tbody tr th {\n",
       "        vertical-align: top;\n",
       "    }\n",
       "\n",
       "    .dataframe thead th {\n",
       "        text-align: right;\n",
       "    }\n",
       "</style>\n",
       "<table border=\"1\" class=\"dataframe\">\n",
       "  <thead>\n",
       "    <tr style=\"text-align: right;\">\n",
       "      <th></th>\n",
       "      <th>city</th>\n",
       "      <th>trips_in_first_30_days</th>\n",
       "      <th>avg_rating_of_driver</th>\n",
       "      <th>avg_surge</th>\n",
       "      <th>phone</th>\n",
       "      <th>surge_pct</th>\n",
       "      <th>ultimate_black_user</th>\n",
       "      <th>weekday_pct</th>\n",
       "      <th>avg_dist</th>\n",
       "      <th>avg_rating_by_driver</th>\n",
       "      <th>retained</th>\n",
       "      <th>first_to_last</th>\n",
       "    </tr>\n",
       "  </thead>\n",
       "  <tbody>\n",
       "    <tr>\n",
       "      <th>0</th>\n",
       "      <td>King's Landing</td>\n",
       "      <td>0</td>\n",
       "      <td>5.0</td>\n",
       "      <td>1.17</td>\n",
       "      <td>iPhone</td>\n",
       "      <td>33.3</td>\n",
       "      <td>False</td>\n",
       "      <td>66.7</td>\n",
       "      <td>12.08</td>\n",
       "      <td>5.0</td>\n",
       "      <td>False</td>\n",
       "      <td>152</td>\n",
       "    </tr>\n",
       "    <tr>\n",
       "      <th>1</th>\n",
       "      <td>Astapor</td>\n",
       "      <td>0</td>\n",
       "      <td>4.0</td>\n",
       "      <td>1.00</td>\n",
       "      <td>iPhone</td>\n",
       "      <td>0.0</td>\n",
       "      <td>False</td>\n",
       "      <td>50.0</td>\n",
       "      <td>1.38</td>\n",
       "      <td>5.0</td>\n",
       "      <td>True</td>\n",
       "      <td>114</td>\n",
       "    </tr>\n",
       "    <tr>\n",
       "      <th>2</th>\n",
       "      <td>Winterfell</td>\n",
       "      <td>4</td>\n",
       "      <td>4.5</td>\n",
       "      <td>1.00</td>\n",
       "      <td>Android</td>\n",
       "      <td>0.0</td>\n",
       "      <td>False</td>\n",
       "      <td>52.4</td>\n",
       "      <td>3.24</td>\n",
       "      <td>5.0</td>\n",
       "      <td>True</td>\n",
       "      <td>120</td>\n",
       "    </tr>\n",
       "    <tr>\n",
       "      <th>3</th>\n",
       "      <td>King's Landing</td>\n",
       "      <td>0</td>\n",
       "      <td>5.0</td>\n",
       "      <td>1.00</td>\n",
       "      <td>iPhone</td>\n",
       "      <td>0.0</td>\n",
       "      <td>True</td>\n",
       "      <td>0.0</td>\n",
       "      <td>4.44</td>\n",
       "      <td>5.0</td>\n",
       "      <td>False</td>\n",
       "      <td>165</td>\n",
       "    </tr>\n",
       "    <tr>\n",
       "      <th>4</th>\n",
       "      <td>Astapor</td>\n",
       "      <td>1</td>\n",
       "      <td>5.0</td>\n",
       "      <td>1.00</td>\n",
       "      <td>Android</td>\n",
       "      <td>0.0</td>\n",
       "      <td>False</td>\n",
       "      <td>100.0</td>\n",
       "      <td>1.02</td>\n",
       "      <td>5.0</td>\n",
       "      <td>True</td>\n",
       "      <td>0</td>\n",
       "    </tr>\n",
       "  </tbody>\n",
       "</table>\n",
       "</div>"
      ],
      "text/plain": [
       "             city  trips_in_first_30_days  avg_rating_of_driver  avg_surge  \\\n",
       "0  King's Landing                       0                   5.0       1.17   \n",
       "1         Astapor                       0                   4.0       1.00   \n",
       "2      Winterfell                       4                   4.5       1.00   \n",
       "3  King's Landing                       0                   5.0       1.00   \n",
       "4         Astapor                       1                   5.0       1.00   \n",
       "\n",
       "     phone  surge_pct  ultimate_black_user  weekday_pct  avg_dist  \\\n",
       "0   iPhone       33.3                False         66.7     12.08   \n",
       "1   iPhone        0.0                False         50.0      1.38   \n",
       "2  Android        0.0                False         52.4      3.24   \n",
       "3   iPhone        0.0                 True          0.0      4.44   \n",
       "4  Android        0.0                False        100.0      1.02   \n",
       "\n",
       "   avg_rating_by_driver  retained  first_to_last  \n",
       "0                   5.0     False            152  \n",
       "1                   5.0      True            114  \n",
       "2                   5.0      True            120  \n",
       "3                   5.0     False            165  \n",
       "4                   5.0      True              0  "
      ]
     },
     "execution_count": 32,
     "metadata": {},
     "output_type": "execute_result"
    }
   ],
   "source": [
    "# Reset the index of the 'learning_data' DataFrame and drop the old index\n",
    "# Display the top rows to verify the changes\n",
    "learning_data.reset_index(drop=True).head()"
   ]
  },
  {
   "cell_type": "code",
   "execution_count": 33,
   "id": "5b36fc50",
   "metadata": {
    "scrolled": true
   },
   "outputs": [
    {
     "name": "stdout",
     "output_type": "stream",
     "text": [
      "<class 'pandas.core.frame.DataFrame'>\n",
      "Index: 2216 entries, 19 to 49973\n",
      "Data columns (total 12 columns):\n",
      " #   Column                  Non-Null Count  Dtype  \n",
      "---  ------                  --------------  -----  \n",
      " 0   city                    2216 non-null   object \n",
      " 1   trips_in_first_30_days  2216 non-null   int64  \n",
      " 2   avg_rating_of_driver    2216 non-null   float64\n",
      " 3   avg_surge               2216 non-null   float64\n",
      " 4   phone                   2216 non-null   object \n",
      " 5   surge_pct               2216 non-null   float64\n",
      " 6   ultimate_black_user     2216 non-null   bool   \n",
      " 7   weekday_pct             2216 non-null   float64\n",
      " 8   avg_dist                2216 non-null   float64\n",
      " 9   avg_rating_by_driver    2216 non-null   float64\n",
      " 10  retained                2216 non-null   bool   \n",
      " 11  first_to_last           2216 non-null   int64  \n",
      "dtypes: bool(2), float64(6), int64(2), object(2)\n",
      "memory usage: 194.8+ KB\n"
     ]
    }
   ],
   "source": [
    "# Display a summary of the 'learning_data' DataFrame, including the number of entries, column names, data types, and memory usage\n",
    "learning_data.info()"
   ]
  },
  {
   "cell_type": "code",
   "execution_count": 35,
   "id": "c673c6ce",
   "metadata": {},
   "outputs": [
    {
     "data": {
      "text/plain": [
       "retained\n",
       "True     0.576264\n",
       "False    0.423736\n",
       "Name: proportion, dtype: float64"
      ]
     },
     "execution_count": 35,
     "metadata": {},
     "output_type": "execute_result"
    }
   ],
   "source": [
    "# Check the balance of the 'retained' variable in the 'learning_data' DataFrame\n",
    "# by calculating the normalized value counts, which shows the proportion of each class\n",
    "learning_data['retained'].value_counts(normalize=True)"
   ]
  },
  {
   "cell_type": "markdown",
   "id": "54e947ab",
   "metadata": {},
   "source": [
    "**The target variable is quite balance.**"
   ]
  },
  {
   "cell_type": "code",
   "execution_count": 36,
   "id": "e83d538d",
   "metadata": {},
   "outputs": [],
   "source": [
    "# Preprocessing\n",
    "# Encoding categorical variables using One-Hot Encoding with make_column_transformer\n",
    "# This step transforms the 'city' and 'phone' columns into one-hot encoded format,\n",
    "# while keeping other columns unchanged ('passthrough').\n",
    "\n",
    "transformer = make_column_transformer(\n",
    "    (OneHotEncoder(), ['city', 'phone']),\n",
    "    remainder='passthrough'\n",
    ")\n",
    "\n",
    "# Apply the transformation to the 'learning_data' DataFrame and create a new DataFrame\n",
    "transformed = transformer.fit_transform(learning_data)\n",
    "transformed_df = pd.DataFrame(transformed, columns=transformer.get_feature_names_out())"
   ]
  },
  {
   "cell_type": "code",
   "execution_count": 37,
   "id": "f87c1486",
   "metadata": {},
   "outputs": [],
   "source": [
    "# Convert boolean values in 'remainder__ultimate_black_user' and 'remainder__retained' columns\n",
    "# from True/False to 1/0 for easier numerical analysis\n",
    "transformed_df['remainder__ultimate_black_user'].replace({True: 1, False: 0}, inplace=True)\n",
    "transformed_df['remainder__retained'].replace({True: 1, False: 0}, inplace=True)"
   ]
  },
  {
   "cell_type": "code",
   "execution_count": 38,
   "id": "3163eb3f",
   "metadata": {
    "scrolled": true
   },
   "outputs": [
    {
     "data": {
      "text/html": [
       "<div>\n",
       "<style scoped>\n",
       "    .dataframe tbody tr th:only-of-type {\n",
       "        vertical-align: middle;\n",
       "    }\n",
       "\n",
       "    .dataframe tbody tr th {\n",
       "        vertical-align: top;\n",
       "    }\n",
       "\n",
       "    .dataframe thead th {\n",
       "        text-align: right;\n",
       "    }\n",
       "</style>\n",
       "<table border=\"1\" class=\"dataframe\">\n",
       "  <thead>\n",
       "    <tr style=\"text-align: right;\">\n",
       "      <th></th>\n",
       "      <th>onehotencoder__city_Astapor</th>\n",
       "      <th>onehotencoder__city_King's Landing</th>\n",
       "      <th>onehotencoder__city_Winterfell</th>\n",
       "      <th>onehotencoder__phone_Android</th>\n",
       "      <th>onehotencoder__phone_iPhone</th>\n",
       "      <th>remainder__trips_in_first_30_days</th>\n",
       "      <th>remainder__avg_rating_of_driver</th>\n",
       "      <th>remainder__avg_surge</th>\n",
       "      <th>remainder__surge_pct</th>\n",
       "      <th>remainder__ultimate_black_user</th>\n",
       "      <th>remainder__weekday_pct</th>\n",
       "      <th>remainder__avg_dist</th>\n",
       "      <th>remainder__avg_rating_by_driver</th>\n",
       "      <th>remainder__retained</th>\n",
       "      <th>remainder__first_to_last</th>\n",
       "    </tr>\n",
       "  </thead>\n",
       "  <tbody>\n",
       "    <tr>\n",
       "      <th>0</th>\n",
       "      <td>0.0</td>\n",
       "      <td>1.0</td>\n",
       "      <td>0.0</td>\n",
       "      <td>0.0</td>\n",
       "      <td>1.0</td>\n",
       "      <td>0</td>\n",
       "      <td>5.0</td>\n",
       "      <td>1.17</td>\n",
       "      <td>33.3</td>\n",
       "      <td>0</td>\n",
       "      <td>66.7</td>\n",
       "      <td>12.08</td>\n",
       "      <td>5.0</td>\n",
       "      <td>0</td>\n",
       "      <td>152</td>\n",
       "    </tr>\n",
       "    <tr>\n",
       "      <th>1</th>\n",
       "      <td>1.0</td>\n",
       "      <td>0.0</td>\n",
       "      <td>0.0</td>\n",
       "      <td>0.0</td>\n",
       "      <td>1.0</td>\n",
       "      <td>0</td>\n",
       "      <td>4.0</td>\n",
       "      <td>1.0</td>\n",
       "      <td>0.0</td>\n",
       "      <td>0</td>\n",
       "      <td>50.0</td>\n",
       "      <td>1.38</td>\n",
       "      <td>5.0</td>\n",
       "      <td>1</td>\n",
       "      <td>114</td>\n",
       "    </tr>\n",
       "    <tr>\n",
       "      <th>2</th>\n",
       "      <td>0.0</td>\n",
       "      <td>0.0</td>\n",
       "      <td>1.0</td>\n",
       "      <td>1.0</td>\n",
       "      <td>0.0</td>\n",
       "      <td>4</td>\n",
       "      <td>4.5</td>\n",
       "      <td>1.0</td>\n",
       "      <td>0.0</td>\n",
       "      <td>0</td>\n",
       "      <td>52.4</td>\n",
       "      <td>3.24</td>\n",
       "      <td>5.0</td>\n",
       "      <td>1</td>\n",
       "      <td>120</td>\n",
       "    </tr>\n",
       "    <tr>\n",
       "      <th>3</th>\n",
       "      <td>0.0</td>\n",
       "      <td>1.0</td>\n",
       "      <td>0.0</td>\n",
       "      <td>0.0</td>\n",
       "      <td>1.0</td>\n",
       "      <td>0</td>\n",
       "      <td>5.0</td>\n",
       "      <td>1.0</td>\n",
       "      <td>0.0</td>\n",
       "      <td>1</td>\n",
       "      <td>0.0</td>\n",
       "      <td>4.44</td>\n",
       "      <td>5.0</td>\n",
       "      <td>0</td>\n",
       "      <td>165</td>\n",
       "    </tr>\n",
       "    <tr>\n",
       "      <th>4</th>\n",
       "      <td>1.0</td>\n",
       "      <td>0.0</td>\n",
       "      <td>0.0</td>\n",
       "      <td>1.0</td>\n",
       "      <td>0.0</td>\n",
       "      <td>1</td>\n",
       "      <td>5.0</td>\n",
       "      <td>1.0</td>\n",
       "      <td>0.0</td>\n",
       "      <td>0</td>\n",
       "      <td>100.0</td>\n",
       "      <td>1.02</td>\n",
       "      <td>5.0</td>\n",
       "      <td>1</td>\n",
       "      <td>0</td>\n",
       "    </tr>\n",
       "  </tbody>\n",
       "</table>\n",
       "</div>"
      ],
      "text/plain": [
       "  onehotencoder__city_Astapor onehotencoder__city_King's Landing  \\\n",
       "0                         0.0                                1.0   \n",
       "1                         1.0                                0.0   \n",
       "2                         0.0                                0.0   \n",
       "3                         0.0                                1.0   \n",
       "4                         1.0                                0.0   \n",
       "\n",
       "  onehotencoder__city_Winterfell onehotencoder__phone_Android  \\\n",
       "0                            0.0                          0.0   \n",
       "1                            0.0                          0.0   \n",
       "2                            1.0                          1.0   \n",
       "3                            0.0                          0.0   \n",
       "4                            0.0                          1.0   \n",
       "\n",
       "  onehotencoder__phone_iPhone remainder__trips_in_first_30_days  \\\n",
       "0                         1.0                                 0   \n",
       "1                         1.0                                 0   \n",
       "2                         0.0                                 4   \n",
       "3                         1.0                                 0   \n",
       "4                         0.0                                 1   \n",
       "\n",
       "  remainder__avg_rating_of_driver remainder__avg_surge remainder__surge_pct  \\\n",
       "0                             5.0                 1.17                 33.3   \n",
       "1                             4.0                  1.0                  0.0   \n",
       "2                             4.5                  1.0                  0.0   \n",
       "3                             5.0                  1.0                  0.0   \n",
       "4                             5.0                  1.0                  0.0   \n",
       "\n",
       "   remainder__ultimate_black_user remainder__weekday_pct remainder__avg_dist  \\\n",
       "0                               0                   66.7               12.08   \n",
       "1                               0                   50.0                1.38   \n",
       "2                               0                   52.4                3.24   \n",
       "3                               1                    0.0                4.44   \n",
       "4                               0                  100.0                1.02   \n",
       "\n",
       "  remainder__avg_rating_by_driver  remainder__retained  \\\n",
       "0                             5.0                    0   \n",
       "1                             5.0                    1   \n",
       "2                             5.0                    1   \n",
       "3                             5.0                    0   \n",
       "4                             5.0                    1   \n",
       "\n",
       "  remainder__first_to_last  \n",
       "0                      152  \n",
       "1                      114  \n",
       "2                      120  \n",
       "3                      165  \n",
       "4                        0  "
      ]
     },
     "execution_count": 38,
     "metadata": {},
     "output_type": "execute_result"
    }
   ],
   "source": [
    "transformed_df.head()"
   ]
  },
  {
   "cell_type": "code",
   "execution_count": 39,
   "id": "862da00b",
   "metadata": {},
   "outputs": [],
   "source": [
    "# Separating the target variable ('retained') from the feature set\n",
    "# 'X' contains all features except the target variable,\n",
    "# while 'y' contains the target variable ('remainder__retained') encoded as 1/0.\n",
    "X = transformed_df.drop('remainder__retained', axis=1)\n",
    "y = transformed_df['remainder__retained'].replace({True: 1, False: 0})\n",
    "\n",
    "# Train-Test Split\n",
    "# Split the data into training and testing sets with 20% of the data reserved for testing,\n",
    "# using a fixed random state for reproducibility.\n",
    "X_train, X_test, y_train, y_test = train_test_split(X, y, test_size=0.2, random_state=42)\n"
   ]
  },
  {
   "cell_type": "markdown",
   "id": "6d44bef1",
   "metadata": {},
   "source": [
    "## Model Selection"
   ]
  },
  {
   "cell_type": "markdown",
   "id": "886ab8a4",
   "metadata": {},
   "source": [
    "**We will experiment with various algorithms using cross-validation on the training set to identify the most effective machine learning algorithm. After selecting the best model, we will make predictions on the test set and calculate the accuracy score of the final model.**\n",
    "\n",
    "**Next, we will implement a deep learning approach using a neural network and compare its performance against the other algorithms.**\n",
    "\n",
    "**The evaluation metric will be the accuracy score.**\n",
    "\n",
    "**Additionally, we will extract the feature importance scores to identify which features have the greatest impact on the decision to retain the service.**"
   ]
  },
  {
   "cell_type": "markdown",
   "id": "9033a1fa",
   "metadata": {},
   "source": [
    "### ML Model"
   ]
  },
  {
   "cell_type": "code",
   "execution_count": null,
   "id": "e5d24b83",
   "metadata": {},
   "outputs": [],
   "source": [
    "from sklearn.naive_bayes import MultinomialNB\n",
    "from sklearn.svm import LinearSVC\n",
    "from sklearn.linear_model import LogisticRegression\n",
    "from sklearn.neighbors import KNeighborsClassifier\n",
    "from sklearn.tree import DecisionTreeClassifier\n",
    "from sklearn.ensemble import BaggingClassifier\n",
    "from sklearn.ensemble import AdaBoostClassifier\n",
    "from sklearn.ensemble import RandomForestClassifier\n",
    "from sklearn.ensemble import VotingClassifier\n",
    "from keras import layers\n",
    "from keras import models\n",
    "from keras import optimizers\n",
    "from keras import losses\n",
    "from keras import metrics\n",
    "\n",
    "from sklearn.pipeline import Pipeline\n",
    "from sklearn.metrics import classification_report, make_scorer, accuracy_score, confusion_matrix"
   ]
  },
  {
   "cell_type": "code",
   "execution_count": 53,
   "id": "45041605",
   "metadata": {},
   "outputs": [
    {
     "name": "stdout",
     "output_type": "stream",
     "text": [
      "MultinomialNB - Cross-validation scores: [0.62253521 0.63380282 0.59039548 0.60169492 0.58757062]\n",
      "MultinomialNB - Mean accuracy: 0.6071998090236332\n",
      "\n",
      "\n",
      "\n",
      "SVM - Cross-validation scores: [0.57746479 0.57746479 0.57627119 0.57627119 0.57627119]\n",
      "SVM - Mean accuracy: 0.5767486273573645\n",
      "\n",
      "\n",
      "\n",
      "Logistic Regression - Cross-validation scores: [0.78591549 0.82535211 0.79096045 0.76836158 0.80508475]\n",
      "Logistic Regression - Mean accuracy: 0.7951348770589639\n",
      "\n",
      "\n",
      "\n",
      "KNeighbors - Cross-validation scores: [0.86478873 0.88450704 0.88983051 0.86440678 0.89830508]\n",
      "KNeighbors - Mean accuracy: 0.8803676295058486\n",
      "\n",
      "\n",
      "\n",
      "Decision Tree - Cross-validation scores: [0.95774648 0.98028169 0.96892655 0.97457627 0.97457627]\n",
      "Decision Tree - Mean accuracy: 0.9712214530118566\n",
      "\n",
      "\n",
      "\n",
      "Bagging - Cross-validation scores: [0.95774648 0.97746479 0.97457627 0.96610169 0.97457627]\n",
      "Bagging - Mean accuracy: 0.9700931009787539\n",
      "\n",
      "\n",
      "\n",
      "AdaBoost - Cross-validation scores: [0.96619718 0.97746479 0.98870056 0.97740113 0.98305085]\n",
      "AdaBoost - Mean accuracy: 0.9785629028407735\n",
      "\n",
      "\n",
      "\n",
      "Random Forest - Cross-validation scores: [0.97464789 0.98873239 0.99152542 0.98305085 0.98022599]\n",
      "Random Forest - Mean accuracy: 0.9836365083154293\n",
      "\n",
      "\n",
      "\n",
      "Voting - Cross-validation scores: [0.81126761 0.84788732 0.83898305 0.83333333 0.84463277]\n",
      "Voting - Mean accuracy: 0.8352208164239675\n",
      "\n",
      "\n",
      "\n"
     ]
    }
   ],
   "source": [
    "# Create a machine learning pipeline\n",
    "pipeline = Pipeline([\n",
    "    ('scaler', Normalizer()),  # Step 2a: Scale the data using Normalizer\n",
    "    ('classifier', RandomForestClassifier())  # Step 2b: Initialize a classification algorithm (default to RandomForest)\n",
    "])\n",
    "\n",
    "# List of classifiers to evaluate with cross-validation\n",
    "classifiers = [\n",
    "    ('MultinomialNB', MultinomialNB()),\n",
    "    ('SVM', LinearSVC(C=0.0001)),\n",
    "    ('Logistic Regression', LogisticRegression(max_iter=1000)),\n",
    "    ('KNeighbors', KNeighborsClassifier(algorithm='brute', n_jobs=-1)),\n",
    "    ('Decision Tree', DecisionTreeClassifier()),\n",
    "    ('Bagging', BaggingClassifier(DecisionTreeClassifier(), max_samples=0.5, max_features=1.0, n_estimators=10)),\n",
    "    ('AdaBoost', AdaBoostClassifier(DecisionTreeClassifier(min_samples_split=10, max_depth=4), n_estimators=10, learning_rate=0.6)),\n",
    "    ('Random Forest', RandomForestClassifier(n_estimators=30, max_depth=9)),\n",
    "    ('Voting', VotingClassifier(estimators=[('mnb', MultinomialNB()), ('lr', LogisticRegression()), ('rf', RandomForestClassifier()), ('svm', LinearSVC())], voting='hard'))\n",
    "]\n",
    "\n",
    "# Perform cross-validation for each classifier\n",
    "for clf_name, clf in classifiers:\n",
    "    pipeline.set_params(classifier=clf)  # Update the classifier in the pipeline\n",
    "    cv_scores = cross_val_score(pipeline, X_train, y_train, cv=5, scoring=make_scorer(accuracy_score))\n",
    "\n",
    "    # Output cross-validation results\n",
    "    print(f\"{clf_name} - Cross-validation scores: {cv_scores}\")\n",
    "    print(f\"{clf_name} - Mean accuracy: {cv_scores.mean()}\\n\")\n"
   ]
  },
  {
   "cell_type": "markdown",
   "id": "353b1ff0",
   "metadata": {},
   "source": [
    "**Random Forest provides the best cross-validation score.**\n",
    "**We will create a classification model with Random Forrest.**"
   ]
  },
  {
   "cell_type": "code",
   "execution_count": 59,
   "id": "bf5149e0",
   "metadata": {},
   "outputs": [],
   "source": [
    "# Scale the training and testing feature sets using Normalizer\n",
    "# 'scale1' is applied to the training data, transforming it into a normalized format\n",
    "X_train_scaled = scale1.fit_transform(X_train)\n",
    "\n",
    "# 'scale2' is applied to the testing data, transforming it into a normalized format\n",
    "X_test_scaled = scale2.fit_transform(X_test)\n"
   ]
  },
  {
   "cell_type": "code",
   "execution_count": 62,
   "id": "6c6da8bf",
   "metadata": {},
   "outputs": [
    {
     "name": "stdout",
     "output_type": "stream",
     "text": [
      "Accuracy: 0.9842342342342343\n",
      "Confusion Matrix:\n",
      "[[184   5]\n",
      " [  2 253]]\n",
      "Classification Report:\n",
      "              precision    recall  f1-score   support\n",
      "\n",
      "           0       0.99      0.97      0.98       189\n",
      "           1       0.98      0.99      0.99       255\n",
      "\n",
      "    accuracy                           0.98       444\n",
      "   macro avg       0.98      0.98      0.98       444\n",
      "weighted avg       0.98      0.98      0.98       444\n",
      "\n"
     ]
    }
   ],
   "source": [
    "# Initialize the Random Forest classifier with 100 estimators and a fixed random state for reproducibility\n",
    "rf_classifier = RandomForestClassifier(n_estimators=100, random_state=42)\n",
    "\n",
    "# Train the classifier using the scaled training data\n",
    "rf_classifier.fit(X_train_scaled, y_train)\n",
    "\n",
    "# Make predictions on the scaled test set\n",
    "y_pred = rf_classifier.predict(X_test_scaled)\n",
    "\n",
    "# Evaluate the classifier's performance by calculating accuracy, confusion matrix, and classification report\n",
    "accuracy = accuracy_score(y_test, y_pred)\n",
    "conf_matrix = confusion_matrix(y_test, y_pred)\n",
    "classification_rep = classification_report(y_test, y_pred)\n",
    "\n",
    "# Print the evaluation results\n",
    "print(f'Accuracy: {accuracy}')\n",
    "print(f'Confusion Matrix:\\n{conf_matrix}')\n",
    "print(f'Classification Report:\\n{classification_rep}')"
   ]
  },
  {
   "cell_type": "markdown",
   "id": "dfa6c530",
   "metadata": {},
   "source": [
    "### Features Importance"
   ]
  },
  {
   "cell_type": "code",
   "execution_count": 74,
   "id": "b22c5cb1",
   "metadata": {},
   "outputs": [
    {
     "data": {
      "image/png": "[encoded data removed]",
      "text/plain": [
       "<Figure size 1000x600 with 1 Axes>"
      ]
     },
     "metadata": {},
     "output_type": "display_data"
    }
   ],
   "source": [
    "# Retrieve the feature importances from the trained Random Forest classifier\n",
    "feature_importances = rf_classifier.feature_importances_\n",
    "\n",
    "# Get the corresponding feature names from the original training data\n",
    "feature_names = X_train.columns\n",
    "\n",
    "# Sort the feature importances in descending order to identify the most important features\n",
    "indices = feature_importances.argsort()[::-1]\n",
    "\n",
    "# Plot the feature importances as a bar chart\n",
    "plt.figure(figsize=(10, 6))\n",
    "plt.bar(range(X_train.shape[1]), feature_importances[indices], align=\"center\")\n",
    "plt.xticks(range(X_train.shape[1]), feature_names[indices], rotation=90)  # Label the x-axis with feature names\n",
    "plt.title(\"Feature Importances\")  # Set the title of the plot\n",
    "plt.show()  # Display the plot"
   ]
  },
  {
   "cell_type": "markdown",
   "id": "b80ad72b",
   "metadata": {},
   "source": [
    "### Deep Learning"
   ]
  },
  {
   "cell_type": "code",
   "execution_count": 58,
   "id": "a611bda6",
   "metadata": {},
   "outputs": [
    {
     "name": "stdout",
     "output_type": "stream",
     "text": [
      "Epoch 1/4\n",
      "3/3 [==============================] - 3s 301ms/step - loss: 0.7055 - accuracy: 0.4968 - val_loss: 0.6576 - val_accuracy: 0.6085\n",
      "Epoch 2/4\n",
      "3/3 [==============================] - 0s 61ms/step - loss: 0.6770 - accuracy: 0.5681 - val_loss: 0.6399 - val_accuracy: 0.6676\n",
      "Epoch 3/4\n",
      "3/3 [==============================] - 0s 49ms/step - loss: 0.6581 - accuracy: 0.6309 - val_loss: 0.6256 - val_accuracy: 0.7099\n",
      "Epoch 4/4\n",
      "3/3 [==============================] - 0s 40ms/step - loss: 0.6428 - accuracy: 0.6641 - val_loss: 0.6130 - val_accuracy: 0.7268\n",
      "14/14 [==============================] - 0s 15ms/step - loss: 0.6309 - accuracy: 0.6824\n",
      "score on test: 0.6824324131011963\n",
      "56/56 [==============================] - 1s 20ms/step - loss: 0.6288 - accuracy: 0.6874\n",
      "score on train: 0.6873589158058167\n"
     ]
    }
   ],
   "source": [
    "# Neural Network Model\n",
    "# Split the scaled training data into partial training and validation sets\n",
    "x_partial_train, x_validation, y_partial_train, y_validation = train_test_split(X_train_scaled, y_train, test_size=0.2, random_state=42)\n",
    "\n",
    "# Initialize the Sequential model for the neural network\n",
    "model = models.Sequential()\n",
    "\n",
    "# Add layers to the model\n",
    "model.add(layers.Dense(16, activation='relu', input_shape=(x_partial_train.shape[1],)))  # Input layer\n",
    "model.add(layers.Dense(16, activation='relu'))  # Hidden layer\n",
    "model.add(layers.Dense(1, activation='sigmoid'))  # Output layer for binary classification\n",
    "\n",
    "# Compile the model with the RMSprop optimizer, binary crossentropy loss, and accuracy as a metric\n",
    "model.compile(optimizer='rmsprop', loss='binary_crossentropy', metrics=['accuracy'])\n",
    "\n",
    "# Train the model on the partial training data for 4 epochs with a batch size of 512,\n",
    "# and validate on the validation set\n",
    "model.fit(x_partial_train, y_partial_train, epochs=4, batch_size=512, validation_data=(x_validation, y_validation))\n",
    "\n",
    "# Evaluate the model on the test set and print the accuracy score\n",
    "print(\"Score on test: \" + str(model.evaluate(X_test_scaled, y_test)[1]))\n",
    "# Evaluate the model on the training set and print the accuracy score\n",
    "print(\"Score on train: \" + str(model.evaluate(X_train_scaled, y_train)[1]))"
   ]
  },
  {
   "cell_type": "markdown",
   "id": "47473f1e",
   "metadata": {},
   "source": [
    "**The neural network in this case perform much worse than the other machine learning methods.**"
   ]
  },
  {
   "cell_type": "markdown",
   "id": "2b977efa",
   "metadata": {},
   "source": [
    "# Future Works"
   ]
  },
  {
   "cell_type": "markdown",
   "id": "5646414f",
   "metadata": {},
   "source": [
    "* **Perform Hyper-parameter tuning for a better predictive model.**\n",
    "* **Consider model runtime to determine model accuracy trade off.**\n",
    "* **Perform hypothetical prediction for the accounts that are less than 6-month old.**\n",
    "* **Improve products based on the features importance information from the model.**"
   ]
  },
  {
   "cell_type": "code",
   "execution_count": null,
   "id": "b3c60d57",
   "metadata": {},
   "outputs": [],
   "source": []
  }
 ],
 "metadata": {
  "kernelspec": {
   "display_name": "venv",
   "language": "python",
   "name": "python3"
  },
  "language_info": {
   "codemirror_mode": {
    "name": "ipython",
    "version": 3
   },
   "file_extension": ".py",
   "mimetype": "text/x-python",
   "name": "python",
   "nbconvert_exporter": "python",
   "pygments_lexer": "ipython3",
   "version": "3.12.7"
  },
  "toc": {
   "base_numbering": 1,
   "nav_menu": {},
   "number_sections": true,
   "sideBar": true,
   "skip_h1_title": false,
   "title_cell": "Table of Contents",
   "title_sidebar": "Contents",
   "toc_cell": false,
   "toc_position": {},
   "toc_section_display": true,
   "toc_window_display": false
  }
 },
 "nbformat": 4,
 "nbformat_minor": 5
}
